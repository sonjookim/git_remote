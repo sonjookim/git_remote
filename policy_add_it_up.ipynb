{
 "cells": [
  {
   "cell_type": "code",
   "execution_count": 1,
   "metadata": {},
   "outputs": [
    {
     "name": "stdout",
     "output_type": "stream",
     "text": [
      "{1: 16, 2: 17, 3: 22, 4: 25, 5: 20}\n"
     ]
    }
   ],
   "source": [
    "import numpy as np\n",
    "\n",
    "counts = {1:0, 2:0, 3:0, 4:0, 5:0}\n",
    "for i in range(100):\n",
    "    choice = np.random.choice([1, 2, 3, 4, 5], p=[0.2, 0.2, 0.2, 0.2, 0.2])\n",
    "    counts[choice] += 1\n",
    "print(counts)"
   ]
  },
  {
   "cell_type": "code",
   "execution_count": 2,
   "metadata": {},
   "outputs": [],
   "source": [
    "def simulate_game(policy):\n",
    "    \"\"\" (return tuples of good choice and bad choice) \"\"\"\n",
    "    player_1_choices = {1:0, 2:0, 3:0, 4:0, 5:0}\n",
    "    player_1_total = 0\n",
    "    player_2_choices = {1:0, 2:0, 3:0, 4:0, 5:0}\n",
    "    player_2_total = 0\n",
    "    for i in range(100):\n",
    "        player_1_choice = np.random.choice([1,2,3,4,5], p=policy)\n",
    "        player_1_choices[player_1_choice] += 1\n",
    "        player_1_total += player_1_choice\n",
    "        player_2_choice = np.random.choice([1,2,3,4,5], p=policy)\n",
    "        player_2_choices[player_2_choice] += 1\n",
    "        player_2_total += player_2_choice\n",
    "        \n",
    "        if player_1_total > player_2_total:\n",
    "            winner_choices = player_1_choices\n",
    "            loser_choices = player_2_choices\n",
    "        else:\n",
    "            winner_choices = player_2_choices\n",
    "            loser_choices = player_1_choices\n",
    "            \n",
    "    return (winner_choices, loser_choices)\n",
    "    "
   ]
  },
  {
   "cell_type": "code",
   "execution_count": 3,
   "metadata": {},
   "outputs": [
    {
     "data": {
      "text/plain": [
       "({1: 18, 2: 21, 3: 19, 4: 21, 5: 21}, {1: 24, 2: 26, 3: 14, 4: 20, 5: 16})"
      ]
     },
     "execution_count": 3,
     "metadata": {},
     "output_type": "execute_result"
    }
   ],
   "source": [
    "policy = [0.2, 0.2, 0.2, 0.2, 0.2]\n",
    "simulate_game(policy)"
   ]
  },
  {
   "cell_type": "code",
   "execution_count": 5,
   "metadata": {},
   "outputs": [
    {
     "name": "stdout",
     "output_type": "stream",
     "text": [
      "0: [0.1997 0.1998 0.2004 0.2001 0.2   ]\n",
      "500: [0.0688 0.1009 0.1578 0.2822 0.3903]\n",
      "1000: [0.0108 0.0237 0.0792 0.2806 0.6057]\n",
      "1500: [6.000e-04 1.700e-03 1.450e-02 1.552e-01 8.280e-01]\n",
      "2000: [0.000e+00 0.000e+00 7.000e-04 2.760e-02 9.717e-01]\n"
     ]
    }
   ],
   "source": [
    "def normalize(policy):\n",
    "    policy = np.clip(policy,0,1)\n",
    "    return policy/np.sum(policy)\n",
    "\n",
    "choices = [1,2,3,4,5]\n",
    "policy = np.array([0.2, 0.2, 0.2, 0.2, 0.2])\n",
    "learning_rate = 0.0001\n",
    "num_games = 2001\n",
    "\n",
    "for j in range(num_games):\n",
    "    win_counts, lose_counts = simulate_game(policy)\n",
    "    for i, choice in enumerate(choices):\n",
    "        net_wins = win_counts[choice] - lose_counts[choice]\n",
    "        policy[i] += learning_rate * net_wins\n",
    "    policy = normalize(policy)\n",
    "    \n",
    "    if j % 500 == 0:\n",
    "        print('%d: %s' %(j, policy))\n",
    "    "
   ]
  },
  {
   "cell_type": "code",
   "execution_count": null,
   "metadata": {},
   "outputs": [],
   "source": [
    "\n",
    "    "
   ]
  },
  {
   "cell_type": "code",
   "execution_count": null,
   "metadata": {},
   "outputs": [],
   "source": []
  }
 ],
 "metadata": {
  "kernelspec": {
   "display_name": "Python 3",
   "language": "python",
   "name": "python3"
  },
  "language_info": {
   "codemirror_mode": {
    "name": "ipython",
    "version": 3
   },
   "file_extension": ".py",
   "mimetype": "text/x-python",
   "name": "python",
   "nbconvert_exporter": "python",
   "pygments_lexer": "ipython3",
   "version": "3.8.5"
  }
 },
 "nbformat": 4,
 "nbformat_minor": 4
}
